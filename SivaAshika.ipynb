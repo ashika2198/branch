{
  "nbformat": 4,
  "nbformat_minor": 0,
  "metadata": {
    "colab": {
      "name": "SivaAshika.ipynb",
      "provenance": [],
      "collapsed_sections": []
    },
    "kernelspec": {
      "name": "python3",
      "display_name": "Python 3"
    },
    "language_info": {
      "name": "python"
    }
  },
  "cells": [
    {
      "cell_type": "code",
      "execution_count": null,
      "metadata": {
        "id": "Y23IGH8BOzVb"
      },
      "outputs": [],
      "source": [
        ""
      ]
    },
    {
      "cell_type": "markdown",
      "source": [
        "#Answer 1"
      ],
      "metadata": {
        "id": "JgXNJboDO0v5"
      }
    },
    {
      "cell_type": "code",
      "source": [
        "nl=[]\n",
        "for x in range(2000, 3200):\n",
        "    if (x%7==0) and (x%5!=0):\n",
        "        nl.append(str(x))\n",
        "print (','.join(nl))"
      ],
      "metadata": {
        "colab": {
          "base_uri": "https://localhost:8080/"
        },
        "id": "CknfcOuVO_u9",
        "outputId": "46961ef6-e102-42dd-df41-a27dd8bf510d"
      },
      "execution_count": null,
      "outputs": [
        {
          "output_type": "stream",
          "name": "stdout",
          "text": [
            "2002,2009,2016,2023,2037,2044,2051,2058,2072,2079,2086,2093,2107,2114,2121,2128,2142,2149,2156,2163,2177,2184,2191,2198,2212,2219,2226,2233,2247,2254,2261,2268,2282,2289,2296,2303,2317,2324,2331,2338,2352,2359,2366,2373,2387,2394,2401,2408,2422,2429,2436,2443,2457,2464,2471,2478,2492,2499,2506,2513,2527,2534,2541,2548,2562,2569,2576,2583,2597,2604,2611,2618,2632,2639,2646,2653,2667,2674,2681,2688,2702,2709,2716,2723,2737,2744,2751,2758,2772,2779,2786,2793,2807,2814,2821,2828,2842,2849,2856,2863,2877,2884,2891,2898,2912,2919,2926,2933,2947,2954,2961,2968,2982,2989,2996,3003,3017,3024,3031,3038,3052,3059,3066,3073,3087,3094,3101,3108,3122,3129,3136,3143,3157,3164,3171,3178,3192,3199\n"
          ]
        }
      ]
    },
    {
      "cell_type": "markdown",
      "source": [
        "# Answer 3"
      ],
      "metadata": {
        "id": "oB0rXfXWPNac"
      }
    },
    {
      "cell_type": "code",
      "source": [
        "n = int(input())\n",
        "d = dict()\n",
        "for i in range(1,n+1):\n",
        "    d[i] = i * i\n",
        "print(d) "
      ],
      "metadata": {
        "colab": {
          "base_uri": "https://localhost:8080/"
        },
        "id": "9HAeNce9PT-E",
        "outputId": "191e1268-78e7-4898-930a-3eb378f8246e"
      },
      "execution_count": null,
      "outputs": [
        {
          "output_type": "stream",
          "name": "stdout",
          "text": [
            "8\n",
            "{1: 1, 2: 4, 3: 9, 4: 16, 5: 25, 6: 36, 7: 49, 8: 64}\n"
          ]
        }
      ]
    },
    {
      "cell_type": "markdown",
      "source": [
        "# Answer 5"
      ],
      "metadata": {
        "id": "I462am_oQrwZ"
      }
    },
    {
      "cell_type": "code",
      "source": [
        "class IOString():\n",
        "    def __init__(self):\n",
        "        self.str1 = \"\"\n",
        "\n",
        "    def get_String(self):\n",
        "        self.str1 = input()\n",
        "\n",
        "    def print_String(self):\n",
        "        print(self.str1.upper())\n",
        "\n",
        "str1 = IOString()\n",
        "str1.get_String()\n",
        "str1.print_String()"
      ],
      "metadata": {
        "colab": {
          "base_uri": "https://localhost:8080/"
        },
        "id": "6ZXlrlEvQtZQ",
        "outputId": "9006f082-9960-447a-b98b-3aba5ed88cc2"
      },
      "execution_count": null,
      "outputs": [
        {
          "output_type": "stream",
          "name": "stdout",
          "text": [
            "new\n",
            "NEW\n"
          ]
        }
      ]
    },
    {
      "cell_type": "markdown",
      "source": [
        "# Answer 6"
      ],
      "metadata": {
        "id": "2M85rZaXQyfz"
      }
    },
    {
      "cell_type": "code",
      "source": [
        "import math\n",
        "c=50\n",
        "h=30\n",
        "value = []\n",
        "items=[x for x in input().split(',')]\n",
        "for d in items:\n",
        "    value.append(str(int(round(math.sqrt(2*c*float(d)/h)))))\n",
        "print(','.join(value))"
      ],
      "metadata": {
        "colab": {
          "base_uri": "https://localhost:8080/"
        },
        "id": "V597oOqSQz9y",
        "outputId": "c494c2ed-bb59-4155-803f-48e6782d6777"
      },
      "execution_count": null,
      "outputs": [
        {
          "output_type": "stream",
          "name": "stdout",
          "text": [
            "100,150,180\n",
            "18,22,24\n"
          ]
        }
      ]
    },
    {
      "cell_type": "markdown",
      "source": [
        "#Answer 7"
      ],
      "metadata": {
        "id": "EAgcJZlZTL7m"
      }
    },
    {
      "cell_type": "code",
      "source": [
        "row_num = int(input(\"Input number of rows: \"))\n",
        "col_num = int(input(\"Input number of columns: \"))\n",
        "multi_list = [[0 for col in range(col_num)] for row in range(row_num)]\n",
        "\n",
        "for row in range(row_num):\n",
        "    for col in range(col_num):\n",
        "        multi_list[row][col]= row*col\n",
        "\n",
        "print(multi_list)"
      ],
      "metadata": {
        "colab": {
          "base_uri": "https://localhost:8080/"
        },
        "id": "YSM0a8g3Sy28",
        "outputId": "9bcf3a88-98ca-4b1a-e7f8-4514832f64ba"
      },
      "execution_count": null,
      "outputs": [
        {
          "output_type": "stream",
          "name": "stdout",
          "text": [
            "Input number of rows: 4\n",
            "Input number of columns: 4\n",
            "[[0, 0, 0, 0], [0, 1, 2, 3], [0, 2, 4, 6], [0, 3, 6, 9]]\n"
          ]
        }
      ]
    },
    {
      "cell_type": "markdown",
      "source": [
        "#Answer 8"
      ],
      "metadata": {
        "id": "2_MVJyhDSuy1"
      }
    },
    {
      "cell_type": "code",
      "source": [
        "i = input(\"enter the items : \")\n",
        "items = [x for x in i.split(',')]\n",
        "items.sort()\n",
        "print (','.join(items))"
      ],
      "metadata": {
        "colab": {
          "base_uri": "https://localhost:8080/"
        },
        "id": "Qvsok8GKTXt-",
        "outputId": "8b51deed-89ee-448f-e07e-14a7f17f3a7f"
      },
      "execution_count": null,
      "outputs": [
        {
          "output_type": "stream",
          "name": "stdout",
          "text": [
            "enter the items : without,hello,bag,world\n",
            "bag,hello,without,world\n"
          ]
        }
      ]
    },
    {
      "cell_type": "markdown",
      "source": [
        "#Answer 9"
      ],
      "metadata": {
        "id": "oFCPfA7HTuFz"
      }
    },
    {
      "cell_type": "code",
      "source": [
        "lines = []\n",
        "while True:\n",
        "    l = input(\"enter the input : \")\n",
        "    if l:\n",
        "        lines.append(l.upper())\n",
        "    else:\n",
        "        break;\n",
        "\n",
        "for l in lines:\n",
        "    print(l)"
      ],
      "metadata": {
        "colab": {
          "base_uri": "https://localhost:8080/"
        },
        "id": "Ec8WvdhsTymb",
        "outputId": "e883d7b9-609e-4f3c-9aa9-64babeb83fcd"
      },
      "execution_count": null,
      "outputs": [
        {
          "output_type": "stream",
          "name": "stdout",
          "text": [
            "enter the input : Hello world\n",
            "enter the input : Practice makes perfect\n",
            "enter the input : \n",
            "HELLO WORLD\n",
            "PRACTICE MAKES PERFECT\n"
          ]
        }
      ]
    },
    {
      "cell_type": "markdown",
      "source": [
        "#Answer 11"
      ],
      "metadata": {
        "id": "LNoWawBKYZdn"
      }
    },
    {
      "cell_type": "code",
      "source": [
        "items = []\n",
        "num = [x for x in input().split(',')]\n",
        "for p in num:\n",
        "    x = int(p, 2)\n",
        "    if not x%5:\n",
        "        items.append(p)\n",
        "print(','.join(items))"
      ],
      "metadata": {
        "colab": {
          "base_uri": "https://localhost:8080/"
        },
        "id": "KBpoF7pDZ23s",
        "outputId": "3b077873-03e4-4248-e29a-df1d9ec48e4c"
      },
      "execution_count": null,
      "outputs": [
        {
          "output_type": "stream",
          "name": "stdout",
          "text": [
            "0100,0011,1010,1001\n",
            "1010\n"
          ]
        }
      ]
    },
    {
      "cell_type": "markdown",
      "source": [
        "#Answer 13"
      ],
      "metadata": {
        "id": "_tnykvXJd_BL"
      }
    },
    {
      "cell_type": "code",
      "source": [
        "s = input(\"Input : \")\n",
        "d=l=0\n",
        "for c in s:\n",
        "    if c.isdigit():\n",
        "        d=d+1\n",
        "    elif c.isalpha():\n",
        "        l=l+1\n",
        "    else:\n",
        "        pass\n",
        "print(\"Letters\", l)\n",
        "print(\"Digits\", d)"
      ],
      "metadata": {
        "id": "F0wzJSjHeBa6",
        "outputId": "9087488c-d892-4b6e-d08d-e1bc5dfad71b",
        "colab": {
          "base_uri": "https://localhost:8080/"
        }
      },
      "execution_count": null,
      "outputs": [
        {
          "output_type": "stream",
          "name": "stdout",
          "text": [
            "Input : hello world! 123\n",
            "Letters 10\n",
            "Digits 3\n"
          ]
        }
      ]
    },
    {
      "cell_type": "markdown",
      "source": [
        "#Answer 14"
      ],
      "metadata": {
        "id": "0IcSrF3SfNIu"
      }
    },
    {
      "cell_type": "code",
      "source": [
        "string = input(\"enter : \")\n",
        "upper = 0\n",
        "lower = 0\n",
        "for x in string:\n",
        "    if x.isupper() == True:\n",
        "        upper += 1\n",
        "    if x.islower() == True:\n",
        "        lower += 1\n",
        "\n",
        "print(\"UPPER CASE: \", upper)\n",
        "print(\"LOWER CASE: \", lower)"
      ],
      "metadata": {
        "colab": {
          "base_uri": "https://localhost:8080/"
        },
        "id": "pVu3c2CRfPps",
        "outputId": "d0b3d124-518f-41c7-fa31-188a57d276b7"
      },
      "execution_count": 20,
      "outputs": [
        {
          "output_type": "stream",
          "name": "stdout",
          "text": [
            "enter : Hello world!\n",
            "UPPER CASE:  1\n",
            "LOWER CASE:  9\n"
          ]
        }
      ]
    },
    {
      "cell_type": "markdown",
      "source": [
        "#Answer 15"
      ],
      "metadata": {
        "id": "1g5LHPWXgKS4"
      }
    },
    {
      "cell_type": "code",
      "source": [
        "a = input(\"enter input : \")\n",
        "n1 = int( \"%s\" % a )\n",
        "n2 = int( \"%s%s\" % (a,a) )\n",
        "n3 = int( \"%s%s%s\" % (a,a,a) )\n",
        "n4 = int( \"%s%s%s%s\" % (a,a,a,a) )\n",
        "print(n1+n2+n3+n4)"
      ],
      "metadata": {
        "colab": {
          "base_uri": "https://localhost:8080/"
        },
        "id": "K1xSen1IgMi2",
        "outputId": "e28139ae-18fb-40f6-888a-9b982ef60784"
      },
      "execution_count": 21,
      "outputs": [
        {
          "output_type": "stream",
          "name": "stdout",
          "text": [
            "enter input : 9\n",
            "11106\n"
          ]
        }
      ]
    },
    {
      "cell_type": "markdown",
      "source": [
        "#Answer 17"
      ],
      "metadata": {
        "id": "pRIpsz10m36e"
      }
    },
    {
      "cell_type": "code",
      "source": [
        "import sys\n",
        "netAmount = 0\n",
        "while True:\n",
        "    s = input(\"enter input :\")\n",
        "    if not s:\n",
        "        break\n",
        "    values = s.split(\" \")\n",
        "    operation = values[0]\n",
        "    amount = int(values[1])\n",
        "    if operation==\"D\":\n",
        "        netAmount+=amount\n",
        "    elif operation==\"W\":\n",
        "        netAmount-=amount\n",
        "    else:\n",
        "        pass\n",
        "print (netAmount)"
      ],
      "metadata": {
        "colab": {
          "base_uri": "https://localhost:8080/"
        },
        "id": "oB3cuRoUm6lV",
        "outputId": "82ed2114-79ab-4b5e-f8a1-d97a99e61fd9"
      },
      "execution_count": 22,
      "outputs": [
        {
          "output_type": "stream",
          "name": "stdout",
          "text": [
            "enter input :D 300\n",
            "enter input :D 300\n",
            "enter input :W 200\n",
            "enter input :D 100\n",
            "enter input :\n",
            "500\n"
          ]
        }
      ]
    },
    {
      "cell_type": "markdown",
      "source": [
        "#Answer 18"
      ],
      "metadata": {
        "id": "uoj4cgnCn0dA"
      }
    },
    {
      "cell_type": "code",
      "source": [
        "import re\n",
        "value = []\n",
        "items = [x for x in input().split(',')]\n",
        "for p in items:\n",
        "    if len(p) < 6 or len(p) > 12:\n",
        "        continue\n",
        "    else:\n",
        "        pass\n",
        "    if not re.search(\"[a-z]\",p):\n",
        "        continue\n",
        "    elif not re.search(\"[0-9]\",p):\n",
        "        continue\n",
        "    elif not re.search(\"[A-Z]\",p):\n",
        "        continue\n",
        "    elif not re.search(\"[$#@]\",p):\n",
        "        continue\n",
        "    elif re.search(\"\\s\",p):\n",
        "        continue\n",
        "    else:\n",
        "        pass\n",
        "    value.append(p)\n",
        "print (\",\".join(value))"
      ],
      "metadata": {
        "colab": {
          "base_uri": "https://localhost:8080/"
        },
        "id": "8lZGgzCNn3Oj",
        "outputId": "9cc38b59-3c49-4bcf-a130-1ab0f9597855"
      },
      "execution_count": 23,
      "outputs": [
        {
          "output_type": "stream",
          "name": "stdout",
          "text": [
            "ABd1234@1,a F1#,2w3E*,2We3345\n",
            "ABd1234@1\n"
          ]
        }
      ]
    },
    {
      "cell_type": "markdown",
      "source": [
        "#Answer 21"
      ],
      "metadata": {
        "id": "aPsYMJy06K1q"
      }
    },
    {
      "cell_type": "code",
      "source": [
        "import math\n",
        "pos = [0,0]\n",
        "while True:\n",
        "    s = input()\n",
        "    if not s:\n",
        "        break\n",
        "    movement = s.split(\" \")\n",
        "    direction = movement[0]\n",
        "    steps = int(movement[1])\n",
        "    if direction==\"UP\":\n",
        "        pos[0]+=steps\n",
        "    elif direction==\"DOWN\":\n",
        "        pos[0]-=steps\n",
        "    elif direction==\"LEFT\":\n",
        "        pos[1]-=steps\n",
        "    elif direction==\"RIGHT\":\n",
        "        pos[1]+=steps\n",
        "    else:\n",
        "        pass\n",
        "\n",
        "print (round(math.sqrt(pos[1]**2+pos[0]**2)))"
      ],
      "metadata": {
        "colab": {
          "base_uri": "https://localhost:8080/"
        },
        "id": "K-GOoWf26ORU",
        "outputId": "09dff8d9-8f99-4ddb-87ae-2264f5d14484"
      },
      "execution_count": 30,
      "outputs": [
        {
          "output_type": "stream",
          "name": "stdout",
          "text": [
            "UP 5\n",
            "DOWN 3\n",
            "LEFT 3\n",
            "RIGHT 2\n",
            "\n",
            "2\n"
          ]
        }
      ]
    },
    {
      "cell_type": "markdown",
      "source": [
        "#Answer 23"
      ],
      "metadata": {
        "id": "ihTcCrHE8Cfi"
      }
    },
    {
      "cell_type": "code",
      "source": [
        "def square(num):\n",
        "    return num ** 2\n",
        "print (square(2))\n",
        "print (square(3))"
      ],
      "metadata": {
        "colab": {
          "base_uri": "https://localhost:8080/"
        },
        "id": "tQZbFAZD8FoD",
        "outputId": "511754a2-14b6-4360-dde3-6299c47d6e84"
      },
      "execution_count": 31,
      "outputs": [
        {
          "output_type": "stream",
          "name": "stdout",
          "text": [
            "4\n",
            "9\n"
          ]
        }
      ]
    },
    {
      "cell_type": "markdown",
      "source": [
        "#Answer 24"
      ],
      "metadata": {
        "id": "YhoPWOJQ9nHi"
      }
    },
    {
      "cell_type": "code",
      "source": [
        "print (abs.__doc__)\n",
        "print (int.__doc__)\n",
        "print (input.__doc__)\n",
        "def square(num):\n",
        "    return num ** 2\n",
        "print (square(2))\n",
        "print (square.__doc__)\n"
      ],
      "metadata": {
        "colab": {
          "base_uri": "https://localhost:8080/"
        },
        "id": "d3zeDalk9pp5",
        "outputId": "80e56657-69a0-4910-f783-83198491a75e"
      },
      "execution_count": 32,
      "outputs": [
        {
          "output_type": "stream",
          "name": "stdout",
          "text": [
            "Return the absolute value of the argument.\n",
            "int([x]) -> integer\n",
            "int(x, base=10) -> integer\n",
            "\n",
            "Convert a number or string to an integer, or return 0 if no arguments\n",
            "are given.  If x is a number, return x.__int__().  For floating point\n",
            "numbers, this truncates towards zero.\n",
            "\n",
            "If x is not a number or if base is given, then x must be a string,\n",
            "bytes, or bytearray instance representing an integer literal in the\n",
            "given base.  The literal can be preceded by '+' or '-' and be surrounded\n",
            "by whitespace.  The base defaults to 10.  Valid bases are 0 and 2-36.\n",
            "Base 0 means to interpret the base from the string as an integer literal.\n",
            ">>> int('0b100', base=0)\n",
            "4\n",
            "Forward raw_input to frontends\n",
            "\n",
            "        Raises\n",
            "        ------\n",
            "        StdinNotImplentedError if active frontend doesn't support stdin.\n",
            "        \n",
            "4\n",
            "None\n"
          ]
        }
      ]
    },
    {
      "cell_type": "markdown",
      "source": [
        "#Answer 25"
      ],
      "metadata": {
        "id": "8zTHQnrR-q6J"
      }
    },
    {
      "cell_type": "code",
      "source": [
        "class Person:\n",
        "    name = \"Person\"\n",
        "    def __init__(self, name = None):\n",
        "        self.name = name\n",
        "Aashi = Person(\"Aashi\")\n",
        "print(\"%s name is %s\" % (Person.name, Aashi.name))\n",
        "nico = Person()\n",
        "nico.name = \"Nico\"\n",
        "print (\"%s name is %s\" % (Person.name, nico.name))"
      ],
      "metadata": {
        "colab": {
          "base_uri": "https://localhost:8080/"
        },
        "id": "3W47alho-uBF",
        "outputId": "f1c1ea6a-b25c-4ba7-c978-3d0c4d33a345"
      },
      "execution_count": 33,
      "outputs": [
        {
          "output_type": "stream",
          "name": "stdout",
          "text": [
            "Person name is Aashi\n",
            "Person name is Nico\n"
          ]
        }
      ]
    },
    {
      "cell_type": "markdown",
      "source": [
        "#Answer 26"
      ],
      "metadata": {
        "id": "6-7g2ATo_t9K"
      }
    },
    {
      "cell_type": "code",
      "source": [
        "def SumFunction(number1, number2):\n",
        "\treturn number1 + number2\n",
        "print (SumFunction(4,6))"
      ],
      "metadata": {
        "colab": {
          "base_uri": "https://localhost:8080/"
        },
        "id": "XKOqfI0i_w87",
        "outputId": "ae6936d6-de15-4a97-f409-eac9345a6f5e"
      },
      "execution_count": 34,
      "outputs": [
        {
          "output_type": "stream",
          "name": "stdout",
          "text": [
            "10\n"
          ]
        }
      ]
    },
    {
      "cell_type": "markdown",
      "source": [
        "#Answer 27"
      ],
      "metadata": {
        "id": "ZyAwC0xsAHbx"
      }
    },
    {
      "cell_type": "code",
      "source": [
        "def printValue(n):\n",
        "\tprint (str(n))\n",
        "printValue(3)"
      ],
      "metadata": {
        "colab": {
          "base_uri": "https://localhost:8080/"
        },
        "id": "sQT0jvDxAJuG",
        "outputId": "f4094ffc-8125-4847-87f9-82b9c5d42851"
      },
      "execution_count": 35,
      "outputs": [
        {
          "output_type": "stream",
          "name": "stdout",
          "text": [
            "3\n"
          ]
        }
      ]
    },
    {
      "cell_type": "markdown",
      "source": [
        "#Answer 28"
      ],
      "metadata": {
        "id": "ECj-W3OTAfPV"
      }
    },
    {
      "cell_type": "code",
      "source": [
        "def printValue(s1,s2):\n",
        "\tprint (int(s1) + int(s2))\n",
        "printValue(\"3\",\"4\")"
      ],
      "metadata": {
        "colab": {
          "base_uri": "https://localhost:8080/"
        },
        "id": "pfN42qYtAhuY",
        "outputId": "eaefc4eb-1e3b-42ac-c609-21f86a857c70"
      },
      "execution_count": 36,
      "outputs": [
        {
          "output_type": "stream",
          "name": "stdout",
          "text": [
            "7\n"
          ]
        }
      ]
    },
    {
      "cell_type": "markdown",
      "source": [
        "#Answer 29"
      ],
      "metadata": {
        "id": "Tynkd1JJAkhz"
      }
    },
    {
      "cell_type": "code",
      "source": [
        "def printValue(s1,s2):\n",
        "\tprint(s1 + s2)\n",
        "printValue(\"2\",\"2\")"
      ],
      "metadata": {
        "colab": {
          "base_uri": "https://localhost:8080/"
        },
        "id": "FkzAnfAhAnDP",
        "outputId": "ad9c0c70-d8e8-41c5-a8da-e515b801d0ee"
      },
      "execution_count": 37,
      "outputs": [
        {
          "output_type": "stream",
          "name": "stdout",
          "text": [
            "22\n"
          ]
        }
      ]
    },
    {
      "cell_type": "markdown",
      "source": [
        "#Answer 30"
      ],
      "metadata": {
        "id": "ZlM-dCcCBmlr"
      }
    },
    {
      "cell_type": "code",
      "source": [
        "def printValue(s1,s2):\n",
        "\tlen1 = len(s1)\n",
        "\tlen2 = len(s2)\n",
        "\tif len1 > len2:\n",
        "\t\tprint (s1)\n",
        "\telif len2 > len1:\n",
        "\t\tprint (s2)\n",
        "\telse:\n",
        "\t\tprint (s1)\n",
        "\t\tprint (s2)\n",
        "printValue(\"one\",\"three\")"
      ],
      "metadata": {
        "colab": {
          "base_uri": "https://localhost:8080/"
        },
        "id": "tlPVPv6OBpeV",
        "outputId": "0085c283-3213-4aa8-8326-4328f19f7ac7"
      },
      "execution_count": 38,
      "outputs": [
        {
          "output_type": "stream",
          "name": "stdout",
          "text": [
            "three\n"
          ]
        }
      ]
    },
    {
      "cell_type": "markdown",
      "source": [
        "#Answer 31"
      ],
      "metadata": {
        "id": "JJ0nsY1KCNcd"
      }
    },
    {
      "cell_type": "code",
      "source": [
        "def printDict():\n",
        "\td=dict()\n",
        "\tfor i in range(1,21):\n",
        "\t\td[i]=i**2\n",
        "\tprint (d)\n",
        "printDict()\n"
      ],
      "metadata": {
        "colab": {
          "base_uri": "https://localhost:8080/"
        },
        "id": "-vFHOBRSCPd7",
        "outputId": "277ea9be-cbc1-4fab-a84c-ef536b20a887"
      },
      "execution_count": 39,
      "outputs": [
        {
          "output_type": "stream",
          "name": "stdout",
          "text": [
            "{1: 1, 2: 4, 3: 9, 4: 16, 5: 25, 6: 36, 7: 49, 8: 64, 9: 81, 10: 100, 11: 121, 12: 144, 13: 169, 14: 196, 15: 225, 16: 256, 17: 289, 18: 324, 19: 361, 20: 400}\n"
          ]
        }
      ]
    },
    {
      "cell_type": "markdown",
      "source": [
        "#Answer 32"
      ],
      "metadata": {
        "id": "L8D5bFFOCSK3"
      }
    },
    {
      "cell_type": "code",
      "source": [
        "def printDict():\n",
        "\td=dict()\n",
        "\tfor i in range(1,21):\n",
        "\t\td[i]=i**2\n",
        "\tfor k in d.keys():\n",
        "\t\tprint (k)\n",
        "printDict()\n"
      ],
      "metadata": {
        "colab": {
          "base_uri": "https://localhost:8080/"
        },
        "id": "B2D-UXZCCUko",
        "outputId": "68a72aab-bb8d-4f5e-87d9-08eedac33912"
      },
      "execution_count": 40,
      "outputs": [
        {
          "output_type": "stream",
          "name": "stdout",
          "text": [
            "1\n",
            "2\n",
            "3\n",
            "4\n",
            "5\n",
            "6\n",
            "7\n",
            "8\n",
            "9\n",
            "10\n",
            "11\n",
            "12\n",
            "13\n",
            "14\n",
            "15\n",
            "16\n",
            "17\n",
            "18\n",
            "19\n",
            "20\n"
          ]
        }
      ]
    },
    {
      "cell_type": "markdown",
      "source": [
        "#Answer 38"
      ],
      "metadata": {
        "id": "huXWPYOaGxKT"
      }
    },
    {
      "cell_type": "code",
      "source": [
        "tp = (1,2,3,4,5,6,7,8,9,10)\n",
        "tp1 = tp[:5]\n",
        "tp2 = tp[5:]\n",
        "print (tp1)\n",
        "print (tp2)"
      ],
      "metadata": {
        "colab": {
          "base_uri": "https://localhost:8080/"
        },
        "id": "bXcklsiLG04Z",
        "outputId": "72f24574-cc4d-4c08-c195-b9369b8feb4f"
      },
      "execution_count": 46,
      "outputs": [
        {
          "output_type": "stream",
          "name": "stdout",
          "text": [
            "(1, 2, 3, 4, 5)\n",
            "(6, 7, 8, 9, 10)\n"
          ]
        }
      ]
    },
    {
      "cell_type": "markdown",
      "source": [
        "#Answer 40"
      ],
      "metadata": {
        "id": "ocGqrdfnHobu"
      }
    },
    {
      "cell_type": "code",
      "source": [
        "s= input()\n",
        "if s==\"yes\" or s==\"YES\" or s==\"Yes\":\n",
        "    print (\"Yes\")\n",
        "else:\n",
        "    print (\"No\")"
      ],
      "metadata": {
        "colab": {
          "base_uri": "https://localhost:8080/"
        },
        "id": "OWraPZqjHr1h",
        "outputId": "22f61d35-2b04-4ef9-e421-19a0ec39b82a"
      },
      "execution_count": 48,
      "outputs": [
        {
          "output_type": "stream",
          "name": "stdout",
          "text": [
            "new\n",
            "No\n"
          ]
        }
      ]
    },
    {
      "cell_type": "markdown",
      "source": [
        "#Answer 47"
      ],
      "metadata": {
        "id": "2Imon0-hKAXT"
      }
    },
    {
      "cell_type": "code",
      "source": [
        "class Circle(object):\n",
        "    def __init__(self, r):\n",
        "        self.radius = r\n",
        "    def area(self):\n",
        "        return self.radius**2*3.14\n",
        "Circle = Circle(2)\n",
        "print (Circle.area())"
      ],
      "metadata": {
        "colab": {
          "base_uri": "https://localhost:8080/"
        },
        "id": "ounB-qeQMZXT",
        "outputId": "a4691451-657e-46f6-8fc5-bf1595fbf96a"
      },
      "execution_count": 51,
      "outputs": [
        {
          "output_type": "stream",
          "name": "stdout",
          "text": [
            "12.56\n"
          ]
        }
      ]
    },
    {
      "cell_type": "markdown",
      "source": [
        "#Answer 48"
      ],
      "metadata": {
        "id": "sPkMyeU7NJ_z"
      }
    },
    {
      "cell_type": "code",
      "source": [
        "class Rectangle(object):\n",
        "    def __init__(self, l, w):\n",
        "        self.length = l\n",
        "        self.width  = w\n",
        "    def area(self):\n",
        "        return self.length*self.width\n",
        "Rectangle = Rectangle(2,10)\n",
        "print (Rectangle.area())"
      ],
      "metadata": {
        "colab": {
          "base_uri": "https://localhost:8080/"
        },
        "id": "9U24TvDsNM9d",
        "outputId": "c6041441-9d93-4e35-fc97-c6b91e0be12d"
      },
      "execution_count": 52,
      "outputs": [
        {
          "output_type": "stream",
          "name": "stdout",
          "text": [
            "20\n"
          ]
        }
      ]
    },
    {
      "cell_type": "markdown",
      "source": [
        "#Answer 51"
      ],
      "metadata": {
        "id": "OqUyjR6MNPy2"
      }
    },
    {
      "cell_type": "code",
      "source": [
        "def throws():\n",
        "    return 5/0\n",
        "try:\n",
        "    throws()\n",
        "except ZeroDivisionError:\n",
        "    print (\"division by zero!\")\n",
        "except Exception as err:\n",
        "    print (\"Caught an exception\")\n",
        "finally:\n",
        "    print (\"cleanup\")\n"
      ],
      "metadata": {
        "colab": {
          "base_uri": "https://localhost:8080/"
        },
        "id": "p-Bo59grOSy5",
        "outputId": "43fbbc94-94fb-483c-b010-c3cffe631516"
      },
      "execution_count": 55,
      "outputs": [
        {
          "output_type": "stream",
          "name": "stdout",
          "text": [
            "division by zero!\n",
            "cleanup\n"
          ]
        }
      ]
    },
    {
      "cell_type": "markdown",
      "source": [
        "#Answer 53"
      ],
      "metadata": {
        "id": "EyXAHLIKOxgR"
      }
    },
    {
      "cell_type": "code",
      "source": [
        "import re\n",
        "email = \"john@google.com\"\n",
        "pattern = \"(\\w+)@\\w+.com\"\n",
        "ans = re.findall(pattern,email)\n",
        "print(ans)"
      ],
      "metadata": {
        "colab": {
          "base_uri": "https://localhost:8080/"
        },
        "id": "q7m_qfZCO00k",
        "outputId": "da0d835d-38aa-40db-9e59-eef0fb789372"
      },
      "execution_count": 56,
      "outputs": [
        {
          "output_type": "stream",
          "name": "stdout",
          "text": [
            "['john']\n"
          ]
        }
      ]
    },
    {
      "cell_type": "markdown",
      "source": [
        "#Answer 54"
      ],
      "metadata": {
        "id": "0b4OwTEdPRH3"
      }
    },
    {
      "cell_type": "code",
      "source": [
        "import re\n",
        "email = \"john@google.com \"\n",
        "pattern = \"\\w+@(\\w+).com\"\n",
        "ans = re.findall(pattern,email)\n",
        "print(ans)"
      ],
      "metadata": {
        "colab": {
          "base_uri": "https://localhost:8080/"
        },
        "id": "O0uZ0mCPPTSI",
        "outputId": "f9820abe-2890-42b8-dcdb-e2c4437c7b17"
      },
      "execution_count": 57,
      "outputs": [
        {
          "output_type": "stream",
          "name": "stdout",
          "text": [
            "['google']\n"
          ]
        }
      ]
    },
    {
      "cell_type": "markdown",
      "source": [
        "#Answer 55"
      ],
      "metadata": {
        "id": "_wF8Vv5UP2mE"
      }
    },
    {
      "cell_type": "code",
      "source": [
        "sentence = input().split()\n",
        "ans = [sentence for sentence in sentence if sentence.isdigit()] \n",
        "print(ans)"
      ],
      "metadata": {
        "colab": {
          "base_uri": "https://localhost:8080/"
        },
        "id": "aMKSoSS1QQtN",
        "outputId": "169f0d54-920b-4985-8fea-6e2428eb26f9"
      },
      "execution_count": 58,
      "outputs": [
        {
          "output_type": "stream",
          "name": "stdout",
          "text": [
            "2 cats and 3 dogs\n",
            "['2', '3']\n"
          ]
        }
      ]
    },
    {
      "cell_type": "markdown",
      "source": [
        "#Answer 56"
      ],
      "metadata": {
        "id": "NQOcJOjdQYyM"
      }
    },
    {
      "cell_type": "code",
      "source": [
        "unicodeString = u\"Hello Ashika!\"\n",
        "print (unicodeString)"
      ],
      "metadata": {
        "colab": {
          "base_uri": "https://localhost:8080/"
        },
        "id": "T6Y2WpvKQpB9",
        "outputId": "d42b8ee9-ec95-4c1b-dc51-8998dd476d83"
      },
      "execution_count": 59,
      "outputs": [
        {
          "output_type": "stream",
          "name": "stdout",
          "text": [
            "Hello Ashika!\n"
          ]
        }
      ]
    },
    {
      "cell_type": "markdown",
      "source": [
        "#Answer 57"
      ],
      "metadata": {
        "id": "d1zr0q5eQxZN"
      }
    },
    {
      "cell_type": "code",
      "source": [
        "sen = input()\n",
        "out = sen.encode('utf-8')\n",
        "print(out)"
      ],
      "metadata": {
        "colab": {
          "base_uri": "https://localhost:8080/"
        },
        "id": "KIAPomQUROZN",
        "outputId": "88591ef4-21e4-418f-e752-0ef2d0778af6"
      },
      "execution_count": 60,
      "outputs": [
        {
          "output_type": "stream",
          "name": "stdout",
          "text": [
            "aashi\n",
            "b'aashi'\n"
          ]
        }
      ]
    },
    {
      "cell_type": "markdown",
      "source": [
        "#Answer 58"
      ],
      "metadata": {
        "id": "v6JhxLy-RZL_"
      }
    },
    {
      "cell_type": "code",
      "source": [
        "# -*- coding: utf-8 -*-"
      ],
      "metadata": {
        "id": "Enkxdw8VRcbB"
      },
      "execution_count": 61,
      "outputs": []
    },
    {
      "cell_type": "markdown",
      "source": [
        "#Answer 59"
      ],
      "metadata": {
        "id": "dwNRc2cHRyK_"
      }
    },
    {
      "cell_type": "code",
      "source": [
        "num = int(input())\n",
        "sum = 0\n",
        "for i in range(1, num+1):\n",
        "    sum+= i/(i+1)\n",
        "print(round(sum, 2))"
      ],
      "metadata": {
        "colab": {
          "base_uri": "https://localhost:8080/"
        },
        "id": "eWSihBFQR2e8",
        "outputId": "f3e7952f-9d9d-4706-eef2-05a2b802dab6"
      },
      "execution_count": 62,
      "outputs": [
        {
          "output_type": "stream",
          "name": "stdout",
          "text": [
            "5\n",
            "3.55\n"
          ]
        }
      ]
    },
    {
      "cell_type": "markdown",
      "source": [
        "#Answer 60"
      ],
      "metadata": {
        "id": "qz9VspBHSHvh"
      }
    },
    {
      "cell_type": "code",
      "source": [
        "def fun(n):\n",
        "    if n == 0:\n",
        "        return 0\n",
        "    return fun(n-1) + 100\n",
        "n = int(input())\n",
        "print(fun(n))"
      ],
      "metadata": {
        "colab": {
          "base_uri": "https://localhost:8080/"
        },
        "id": "xypBL4w1SeDD",
        "outputId": "e1a08616-925d-4c80-8b32-a1831c4bb0bc"
      },
      "execution_count": 63,
      "outputs": [
        {
          "output_type": "stream",
          "name": "stdout",
          "text": [
            "5\n",
            "500\n"
          ]
        }
      ]
    },
    {
      "cell_type": "markdown",
      "source": [
        "#Answer 61"
      ],
      "metadata": {
        "id": "4tfzgXGkS6Ld"
      }
    },
    {
      "cell_type": "code",
      "source": [
        "def fun(n):\n",
        "    if n < 2:\n",
        "        return n\n",
        "    return fun(n-1) + fun(n-2)\n",
        "n = int(input())\n",
        "print(fun(n))"
      ],
      "metadata": {
        "colab": {
          "base_uri": "https://localhost:8080/"
        },
        "id": "v8QCSpf4S9Y5",
        "outputId": "264a5052-9708-49d3-e909-acd166b19932"
      },
      "execution_count": 64,
      "outputs": [
        {
          "output_type": "stream",
          "name": "stdout",
          "text": [
            "7\n",
            "13\n"
          ]
        }
      ]
    },
    {
      "cell_type": "markdown",
      "source": [
        "#Answer 62"
      ],
      "metadata": {
        "id": "UkptZ24jTCE6"
      }
    },
    {
      "cell_type": "code",
      "source": [
        "def fib(n):\n",
        "    if n < 2:\n",
        "      return n\n",
        "    else:\n",
        "\t    return fib(n-1)+fib(n-2)\n",
        "def print_fiblist(n):\n",
        "    fib_list = [(str(fib(i))) for i in range(0, n+1)]\n",
        "    return print(\",\".join(fib_list))\n",
        "n = int(input())\n",
        "print_fiblist(n)"
      ],
      "metadata": {
        "colab": {
          "base_uri": "https://localhost:8080/"
        },
        "id": "ALuOB9ynTFDS",
        "outputId": "eabe99df-a780-4e7a-969f-0490e54177cc"
      },
      "execution_count": 65,
      "outputs": [
        {
          "output_type": "stream",
          "name": "stdout",
          "text": [
            "7\n",
            "0,1,1,2,3,5,8,13\n"
          ]
        }
      ]
    },
    {
      "cell_type": "markdown",
      "source": [
        "#Answer 63"
      ],
      "metadata": {
        "id": "40JIEpjPTXJ6"
      }
    },
    {
      "cell_type": "code",
      "source": [
        "n = int(input())\n",
        "for i in range(0, n+1, 2):\n",
        "  if i < n - 1:\n",
        "    print(i, end = ',' )\n",
        "  else:\n",
        "    print(i)"
      ],
      "metadata": {
        "colab": {
          "base_uri": "https://localhost:8080/"
        },
        "id": "jsQg7DQdTaDt",
        "outputId": "8c63ef63-5b93-4b09-d39c-3e67ac3597f5"
      },
      "execution_count": 66,
      "outputs": [
        {
          "output_type": "stream",
          "name": "stdout",
          "text": [
            "10\n",
            "0,2,4,6,8,10\n"
          ]
        }
      ]
    },
    {
      "cell_type": "markdown",
      "source": [
        "#Answer 64"
      ],
      "metadata": {
        "id": "MHRKPK-qTnJL"
      }
    },
    {
      "cell_type": "code",
      "source": [
        "def function(n):\n",
        "    for i in range(n+1):\n",
        "        if i % 35 == 0:   \n",
        "            yield i\n",
        "n = int(input())\n",
        "com = [str(i) for i in function(n)]\n",
        "print(\",\".join(com))"
      ],
      "metadata": {
        "colab": {
          "base_uri": "https://localhost:8080/"
        },
        "id": "lZB8EIElTs09",
        "outputId": "28c2686b-73cf-4399-e44f-936a6a3ea4c0"
      },
      "execution_count": 67,
      "outputs": [
        {
          "output_type": "stream",
          "name": "stdout",
          "text": [
            "100\n",
            "0,35,70\n"
          ]
        }
      ]
    },
    {
      "cell_type": "markdown",
      "source": [
        "#Answer 65"
      ],
      "metadata": {
        "id": "a3XwHaWaT8mU"
      }
    },
    {
      "cell_type": "code",
      "source": [
        "list1 = [2,4,6,8,10]\n",
        "for i in list1:\n",
        "    assert i%2==0"
      ],
      "metadata": {
        "id": "WMuN2flWUATs"
      },
      "execution_count": 69,
      "outputs": []
    },
    {
      "cell_type": "markdown",
      "source": [
        "#Answer 67"
      ],
      "metadata": {
        "id": "QfowN5EwUcO6"
      }
    },
    {
      "cell_type": "code",
      "source": [
        "def binary_search(lst, item):\n",
        "    low = 0\n",
        "    high = len(lst) - 1\n",
        "    \n",
        "    while low <= high:\n",
        "        mid = round((low + high) / 2)\n",
        "        \n",
        "        if lst[mid] == item:\n",
        "            return mid\n",
        "        elif lst[mid] > item:\n",
        "            high = mid - 1\n",
        "        else:\n",
        "            low = mid + 1\n",
        "    return None\n",
        "    \n",
        "lst = [1,3,5,7,]\n",
        "print(binary_search(lst, 9)) "
      ],
      "metadata": {
        "colab": {
          "base_uri": "https://localhost:8080/"
        },
        "id": "sB0u4aY-V0Dr",
        "outputId": "56f67d34-f4af-46e3-e9cb-3df4d8f8eb6e"
      },
      "execution_count": 75,
      "outputs": [
        {
          "output_type": "stream",
          "name": "stdout",
          "text": [
            "None\n"
          ]
        }
      ]
    },
    {
      "cell_type": "markdown",
      "source": [
        ""
      ],
      "metadata": {
        "id": "cDZlajdZV26n"
      }
    },
    {
      "cell_type": "markdown",
      "source": [
        "#Answer 68"
      ],
      "metadata": {
        "id": "MjS9MUNUWIM3"
      }
    },
    {
      "cell_type": "code",
      "source": [
        "import random\n",
        "randomnum = random.uniform(10,100)\n",
        "print(randomnum)"
      ],
      "metadata": {
        "colab": {
          "base_uri": "https://localhost:8080/"
        },
        "id": "VI1mPHlhWLiN",
        "outputId": "8e6e595a-caa1-4e5a-cf3a-71ace3f964f3"
      },
      "execution_count": 76,
      "outputs": [
        {
          "output_type": "stream",
          "name": "stdout",
          "text": [
            "45.23508548548149\n"
          ]
        }
      ]
    },
    {
      "cell_type": "markdown",
      "source": [
        "#Answer 69"
      ],
      "metadata": {
        "id": "BbvBBiMPWfJ5"
      }
    },
    {
      "cell_type": "code",
      "source": [
        "import random\n",
        "print (random.random()*100-5)\n"
      ],
      "metadata": {
        "colab": {
          "base_uri": "https://localhost:8080/"
        },
        "id": "RqgzaQ-yWiF7",
        "outputId": "64910446-076f-45bd-abc0-b7528be7c7ac"
      },
      "execution_count": 77,
      "outputs": [
        {
          "output_type": "stream",
          "name": "stdout",
          "text": [
            "35.906552731339865\n"
          ]
        }
      ]
    },
    {
      "cell_type": "markdown",
      "source": [
        "#Answer 70"
      ],
      "metadata": {
        "id": "C2YqLzRYWpEe"
      }
    },
    {
      "cell_type": "code",
      "source": [
        "import random\n",
        "out = [i for i in range(0,11,2)]\n",
        "print(random.choice(out))"
      ],
      "metadata": {
        "colab": {
          "base_uri": "https://localhost:8080/"
        },
        "id": "lTVWaYmpWrCu",
        "outputId": "4b2bb363-00f0-4d9e-852d-b3c5ee814c51"
      },
      "execution_count": 78,
      "outputs": [
        {
          "output_type": "stream",
          "name": "stdout",
          "text": [
            "6\n"
          ]
        }
      ]
    },
    {
      "cell_type": "markdown",
      "source": [
        "#Answer 71"
      ],
      "metadata": {
        "id": "eBt52I2VXBwa"
      }
    },
    {
      "cell_type": "code",
      "source": [
        "import random\n",
        "out = [i for i in range(10,151) if i % 35 == 0 ]\n",
        "print(random.choice(out))"
      ],
      "metadata": {
        "colab": {
          "base_uri": "https://localhost:8080/"
        },
        "id": "5WmPm3VQXDqS",
        "outputId": "8c52e708-2367-4c30-a3d5-a5215a19012f"
      },
      "execution_count": 79,
      "outputs": [
        {
          "output_type": "stream",
          "name": "stdout",
          "text": [
            "35\n"
          ]
        }
      ]
    },
    {
      "cell_type": "markdown",
      "source": [
        "#Answer 72"
      ],
      "metadata": {
        "id": "fwWvRYnMXPv_"
      }
    },
    {
      "cell_type": "code",
      "source": [
        "import random\n",
        "print (random.sample(range(100,201), 5))"
      ],
      "metadata": {
        "colab": {
          "base_uri": "https://localhost:8080/"
        },
        "id": "mW6r9oeZXR-N",
        "outputId": "6861d6ac-fa1d-4091-a346-dc79dcfed1a1"
      },
      "execution_count": 80,
      "outputs": [
        {
          "output_type": "stream",
          "name": "stdout",
          "text": [
            "[126, 141, 196, 185, 195]\n"
          ]
        }
      ]
    },
    {
      "cell_type": "markdown",
      "source": [
        "#Answer 73"
      ],
      "metadata": {
        "id": "SSFBn5UAXUHa"
      }
    },
    {
      "cell_type": "code",
      "source": [
        "import random\n",
        "out = random.sample(range(100,201,2),5)\n",
        "print(out)"
      ],
      "metadata": {
        "colab": {
          "base_uri": "https://localhost:8080/"
        },
        "id": "VwOtxcDWXWtZ",
        "outputId": "48b7af50-7e3d-455a-aa6a-0056e152cec4"
      },
      "execution_count": 81,
      "outputs": [
        {
          "output_type": "stream",
          "name": "stdout",
          "text": [
            "[134, 182, 104, 164, 142]\n"
          ]
        }
      ]
    },
    {
      "cell_type": "markdown",
      "source": [
        "#Answer 74"
      ],
      "metadata": {
        "id": "7tbu9QyAXl82"
      }
    },
    {
      "cell_type": "code",
      "source": [
        "import random\n",
        "list1 = [i for i in range(1,1001) if i%35 == 0]\n",
        "out = random.sample(list1,5)\n",
        "print(out)"
      ],
      "metadata": {
        "colab": {
          "base_uri": "https://localhost:8080/"
        },
        "id": "8yHWnUdlXrB0",
        "outputId": "4048483a-6468-48a8-ea2f-1d42fe34075a"
      },
      "execution_count": 83,
      "outputs": [
        {
          "output_type": "stream",
          "name": "stdout",
          "text": [
            "[280, 665, 420, 175, 945]\n"
          ]
        }
      ]
    },
    {
      "cell_type": "markdown",
      "source": [
        "#Answer 75"
      ],
      "metadata": {
        "id": "dKtdvarmYlFe"
      }
    },
    {
      "cell_type": "code",
      "source": [
        "import random\n",
        "print (random.randrange(7,16))"
      ],
      "metadata": {
        "colab": {
          "base_uri": "https://localhost:8080/"
        },
        "id": "ZBQEcOYDYn88",
        "outputId": "d1a4eab1-935d-44e2-e764-f15627737357"
      },
      "execution_count": 85,
      "outputs": [
        {
          "output_type": "stream",
          "name": "stdout",
          "text": [
            "15\n"
          ]
        }
      ]
    },
    {
      "cell_type": "markdown",
      "source": [
        "#Answer 77"
      ],
      "metadata": {
        "id": "HMR9ysxaY8Xk"
      }
    },
    {
      "cell_type": "code",
      "source": [
        "import time\n",
        "time1 = time.time()\n",
        "for i in range(100):\n",
        "    x = 1 + 1\n",
        "time2 = time.time()\n",
        "time = time2 - time1\n",
        "print(time)"
      ],
      "metadata": {
        "colab": {
          "base_uri": "https://localhost:8080/"
        },
        "id": "Nr5-2NCWY-8s",
        "outputId": "0617c644-f1ef-43fd-e4d1-8c4be8d9ff91"
      },
      "execution_count": 86,
      "outputs": [
        {
          "output_type": "stream",
          "name": "stdout",
          "text": [
            "8.940696716308594e-05\n"
          ]
        }
      ]
    },
    {
      "cell_type": "markdown",
      "source": [
        "#Answer 78"
      ],
      "metadata": {
        "id": "GTIJnKTyZGiB"
      }
    },
    {
      "cell_type": "code",
      "source": [
        "import random\n",
        "list1 = [3,6,7,8]\n",
        "random.shuffle(list1)\n",
        "print(list1)"
      ],
      "metadata": {
        "colab": {
          "base_uri": "https://localhost:8080/"
        },
        "id": "pG9U8mhsZJdA",
        "outputId": "01e3160c-f7a6-418c-93d1-e09c715dbcaa"
      },
      "execution_count": 87,
      "outputs": [
        {
          "output_type": "stream",
          "name": "stdout",
          "text": [
            "[7, 3, 8, 6]\n"
          ]
        }
      ]
    },
    {
      "cell_type": "markdown",
      "source": [
        "#Answer 79"
      ],
      "metadata": {
        "id": "FjEJ3CHuZfKY"
      }
    },
    {
      "cell_type": "code",
      "source": [
        "subjects=[\"I\", \"You\"]\n",
        "verbs=[\"Play\", \"Love\"]\n",
        "objects=[\"Hockey\",\"Football\"]\n",
        "for x in subjects:\n",
        "    for y in verbs:\n",
        "        for z in objects:\n",
        "            print(\"{} {} {}\".format(x,y,z))"
      ],
      "metadata": {
        "colab": {
          "base_uri": "https://localhost:8080/"
        },
        "id": "-pWbD-RJZhhG",
        "outputId": "024e83f8-598d-4251-ca14-fb9c28f693aa"
      },
      "execution_count": 88,
      "outputs": [
        {
          "output_type": "stream",
          "name": "stdout",
          "text": [
            "I Play Hockey\n",
            "I Play Football\n",
            "I Love Hockey\n",
            "I Love Football\n",
            "You Play Hockey\n",
            "You Play Football\n",
            "You Love Hockey\n",
            "You Love Football\n"
          ]
        }
      ]
    },
    {
      "cell_type": "markdown",
      "source": [
        "#Answer 80"
      ],
      "metadata": {
        "id": "5RZnacQ6ZwBH"
      }
    },
    {
      "cell_type": "code",
      "source": [
        "list1 = [5,6,77,45,22,12,24]\n",
        "list1 = [x for x in list1 if x%2!=0]\n",
        "print (list1)"
      ],
      "metadata": {
        "colab": {
          "base_uri": "https://localhost:8080/"
        },
        "id": "fEnIvuh6ZzI7",
        "outputId": "6a7640bc-9112-4c3a-c09f-b02d377e2459"
      },
      "execution_count": 89,
      "outputs": [
        {
          "output_type": "stream",
          "name": "stdout",
          "text": [
            "[5, 77, 45]\n"
          ]
        }
      ]
    },
    {
      "cell_type": "markdown",
      "source": [
        "#Answer 81"
      ],
      "metadata": {
        "id": "HGPRRKlhZ5F1"
      }
    },
    {
      "cell_type": "code",
      "source": [
        "list1 = [12,24,35,70,88,120,155]\n",
        "list1 = [x for x in list1 if x%5!=0 and x%7!=0]\n",
        "print (list1)"
      ],
      "metadata": {
        "colab": {
          "base_uri": "https://localhost:8080/"
        },
        "id": "M9a0XKLoZ8x-",
        "outputId": "5872c382-3378-4f11-e6ca-fccf310a6a98"
      },
      "execution_count": 90,
      "outputs": [
        {
          "output_type": "stream",
          "name": "stdout",
          "text": [
            "[12, 24, 88]\n"
          ]
        }
      ]
    },
    {
      "cell_type": "markdown",
      "source": [
        "#Answer 82"
      ],
      "metadata": {
        "id": "s9mZBSWyaJsJ"
      }
    },
    {
      "cell_type": "code",
      "source": [
        "li = [12,24,35,70,88,120,155]\n",
        "li = [x for (i,x) in enumerate(li) if i%2 != 0 and i <= 6]\n",
        "print (li)"
      ],
      "metadata": {
        "colab": {
          "base_uri": "https://localhost:8080/"
        },
        "id": "buaXNLfjaMdn",
        "outputId": "b875932d-09cd-4226-a26f-5b834692eeae"
      },
      "execution_count": 91,
      "outputs": [
        {
          "output_type": "stream",
          "name": "stdout",
          "text": [
            "[24, 70, 120]\n"
          ]
        }
      ]
    },
    {
      "cell_type": "markdown",
      "source": [
        "#Answer 84"
      ],
      "metadata": {
        "id": "A8yZrrL4atXv"
      }
    },
    {
      "cell_type": "code",
      "source": [
        "array = [[ [0 for col in range(8)] for col in range(5)] for row in range(3)]\n",
        "print (array)"
      ],
      "metadata": {
        "colab": {
          "base_uri": "https://localhost:8080/"
        },
        "id": "eBvYztgvaxvX",
        "outputId": "7651b2d0-bb31-49fc-c5a7-6a3d6b2aa1d0"
      },
      "execution_count": 92,
      "outputs": [
        {
          "output_type": "stream",
          "name": "stdout",
          "text": [
            "[[[0, 0, 0, 0, 0, 0, 0, 0], [0, 0, 0, 0, 0, 0, 0, 0], [0, 0, 0, 0, 0, 0, 0, 0], [0, 0, 0, 0, 0, 0, 0, 0], [0, 0, 0, 0, 0, 0, 0, 0]], [[0, 0, 0, 0, 0, 0, 0, 0], [0, 0, 0, 0, 0, 0, 0, 0], [0, 0, 0, 0, 0, 0, 0, 0], [0, 0, 0, 0, 0, 0, 0, 0], [0, 0, 0, 0, 0, 0, 0, 0]], [[0, 0, 0, 0, 0, 0, 0, 0], [0, 0, 0, 0, 0, 0, 0, 0], [0, 0, 0, 0, 0, 0, 0, 0], [0, 0, 0, 0, 0, 0, 0, 0], [0, 0, 0, 0, 0, 0, 0, 0]]]\n"
          ]
        }
      ]
    },
    {
      "cell_type": "markdown",
      "source": [
        "#Answer 85"
      ],
      "metadata": {
        "id": "sBffKHTPa7mF"
      }
    },
    {
      "cell_type": "code",
      "source": [
        "li = [12,24,35,70,88,120,155]\n",
        "li = [li[i] for i in range(len(li)) if i not in (0,4,5)]\n",
        "print(li)"
      ],
      "metadata": {
        "colab": {
          "base_uri": "https://localhost:8080/"
        },
        "id": "oLGeQHqXa_yp",
        "outputId": "fbf201da-9369-4305-b019-552586c80d2e"
      },
      "execution_count": 93,
      "outputs": [
        {
          "output_type": "stream",
          "name": "stdout",
          "text": [
            "[24, 35, 70, 155]\n"
          ]
        }
      ]
    },
    {
      "cell_type": "markdown",
      "source": [
        "#Answer 86"
      ],
      "metadata": {
        "id": "iYL48xTcbKRF"
      }
    },
    {
      "cell_type": "code",
      "source": [
        "li = [12,24,35,24,88,120,155]\n",
        "li.remove(24)\n",
        "print(li)"
      ],
      "metadata": {
        "colab": {
          "base_uri": "https://localhost:8080/"
        },
        "id": "Sosj_6jTbNJc",
        "outputId": "3f4c8a69-9495-4b78-f323-8020d43f384b"
      },
      "execution_count": 94,
      "outputs": [
        {
          "output_type": "stream",
          "name": "stdout",
          "text": [
            "[12, 35, 24, 88, 120, 155]\n"
          ]
        }
      ]
    }
  ]
}